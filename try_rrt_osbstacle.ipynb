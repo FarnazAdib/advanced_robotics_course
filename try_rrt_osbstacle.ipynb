{
 "cells": [
  {
   "cell_type": "markdown",
   "id": "54083b85",
   "metadata": {},
   "source": [
    "RRT Path Planning Algorithm\n",
    "\n",
    "This notebook demonstrates the Rapidly-exploring Random Tree (RRT) algorithm for path planning in a 2D environment with obstacles.\n",
    "\n",
    "The RRT algorithm is a powerful and widely used method for finding a collision-free path from a start point to a goal point in a complex, high-dimensional space. It works by incrementally building a tree from the start point, randomly exploring the environment, and growing the tree towards these random points.\n",
    "\n",
    "__How RRT Works:__\n",
    "\n",
    "1. __Initialize the Tree:__ The tree starts with just the start node.\n",
    "\n",
    "2. __Iterative Expansion:__ In each iteration, the algorithm does the following:\n",
    "\n",
    "3. __Sample a Point:__ A random point is sampled from the environment. With a small probability (`GOAL_SAMPLE_RATE`), the goal point is sampled to encourage growth towards the goal.\n",
    "\n",
    "4. __Find Nearest Node:__ The nearest node in the existing tree to the sampled point is found.\n",
    "\n",
    "5. __Steer:__ A new node is created a fixed distance (`STEP_SIZE`) from the nearest node, in the direction of the sampled point.\n",
    "\n",
    "6. __Collision Check:__ The path from the nearest node to the new node is checked for collisions with obstacles.\n",
    "\n",
    "7. __Add to Tree:__ If the path is collision-free, the new node is added to the tree, with its parent set to the nearest node.\n",
    "\n",
    "8. __Goal Check:__ After adding the new node, its distance to the goal is checked. If it's within a certain threshold (`GOAL_THRESHOLD`), a path is considered found.\n",
    "\n",
    "9. __Path Reconstruction:__ If a path is found, it is reconstructed by backtracking from the goal node to the start node using the parent pointers."
   ]
  },
  {
   "cell_type": "markdown",
   "id": "17516e84",
   "metadata": {},
   "source": [
    "# 1. Setup and Initialization\n",
    "\n",
    "First, we will import the necessary libraries and define the parameters for our RRT algorithm.\n",
    "\n",
    "- `numpy` and `matplotlib.pyplot` for numerical operations and visualization.\n",
    "\n",
    "- `random` and `math` for generating random numbers and mathematical functions."
   ]
  },
  {
   "cell_type": "code",
   "execution_count": null,
   "id": "8dae3b07",
   "metadata": {},
   "outputs": [],
   "source": [
    "# Import necessary libraries\n",
    "import numpy as np\n",
    "import matplotlib.pyplot as plt\n",
    "import random\n",
    "import math\n",
    "\n",
    "# --- RRT Algorithm Parameters ---\n",
    "# The maximum number of iterations to search for a path\n",
    "MAX_ITERATIONS = 5000  \n",
    "# The fixed distance for extending a new node from its nearest neighbor\n",
    "STEP_SIZE = 15.0      \n",
    "# The probability of sampling the goal point instead of a random point\n",
    "GOAL_SAMPLE_RATE = 0.05 \n",
    "# The distance threshold to consider the goal reached\n",
    "GOAL_THRESHOLD = 5.0"
   ]
  },
  {
   "cell_type": "markdown",
   "id": "b9fb298f",
   "metadata": {},
   "source": [
    "# 2. Node and Helper Functions\n",
    "\n",
    "We define a class `RRTNode` to represent the nodes of our tree and a few helper functions.\n",
    "\n",
    "- `RRTNode`: Stores the `x`, `y` coordinates and a parent pointer to reconstruct the path.\n",
    "\n",
    "- `distance:` Calculates the Euclidean distance between two nodes.\n",
    "\n",
    "- `is_collision_free`: A function to check if a path segment between two nodes is clear of obstacles. We use a simple discretization method for this check.\n",
    "\n",
    "- `find_nearest_node`: Iterates through the tree to find the node closest to a given point.\n",
    "\n",
    "- `steer`: Generates a new node a fixed `STEP_SIZE` away from a `nearest_node` towards a `random_node`."
   ]
  },
  {
   "cell_type": "code",
   "execution_count": null,
   "id": "81d2661f",
   "metadata": {},
   "outputs": [],
   "source": [
    "class RRTNode:\n",
    "    \"\"\"Represents a node in the RRT tree.\"\"\"\n",
    "    def __init__(self, x, y):\n",
    "        self.x = x\n",
    "        self.y = y\n",
    "        self.parent = None\n",
    "\n",
    "\n",
    "def distance(node1, node2):\n",
    "    \"\"\"Calculates the Euclidean distance between two nodes.\"\"\"\n",
    "    return math.sqrt((node1.x - node2.x)**2 + (node1.y - node2.y)**2)\n"
   ]
  },
  {
   "cell_type": "markdown",
   "id": "190163de",
   "metadata": {},
   "source": [
    "Checks if the path between two nodes collides with any obstacle using discretization"
   ]
  },
  {
   "cell_type": "code",
   "execution_count": null,
   "id": "fd71cfbb",
   "metadata": {},
   "outputs": [],
   "source": [
    "\n",
    "def is_collision_free(start_node, end_node, obstacles, num_checks=20):\n",
    "    \"\"\"Checks if the path between two nodes collides with any obstacle using discretization.\"\"\"\n",
    "    for i in range(num_checks + 1):\n",
    "        t = i / num_checks\n",
    "        # Start your code here. 2 lines of code.\n",
    "        x = None\n",
    "        y = None\n",
    "        # End your code here.\n",
    "        for obs in obstacles:\n",
    "            ox, oy, w, h = obs\n",
    "            if ox <= x <= ox + w and oy <= y <= oy + h:\n",
    "                return False\n",
    "    return True\n"
   ]
  },
  {
   "cell_type": "markdown",
   "id": "b2841d4a",
   "metadata": {},
   "source": [
    "Finds the node in the tree closest to the random node."
   ]
  },
  {
   "cell_type": "code",
   "execution_count": null,
   "id": "4693b22f",
   "metadata": {},
   "outputs": [],
   "source": [
    "\n",
    "def find_nearest_node(tree, random_node):\n",
    "    \"\"\"Finds the node in the tree closest to the random node.\"\"\"\n",
    "    min_dist = float('inf')\n",
    "    nearest_node = None\n",
    "    # Start your code here. 5 lines of code.\n",
    "    \n",
    "    # End your code here.\n",
    "    return nearest_node\n"
   ]
  },
  {
   "cell_type": "code",
   "execution_count": null,
   "id": "3862f8f1",
   "metadata": {},
   "outputs": [],
   "source": [
    "\n",
    "def steer(nearest_node, random_node, step_size):\n",
    "    \"\"\"Generates a new node a fixed distance towards the random node.\"\"\"\n",
    "    dist = distance(nearest_node, random_node)\n",
    "    if dist < step_size:\n",
    "        return random_node\n",
    "    \n",
    "    theta = math.atan2(random_node.y - nearest_node.y, random_node.x - nearest_node.x)\n",
    "    new_x = nearest_node.x + step_size * math.cos(theta)\n",
    "    new_y = nearest_node.y + step_size * math.sin(theta)\n",
    "    return RRTNode(new_x, new_y)"
   ]
  },
  {
   "cell_type": "markdown",
   "id": "67d71680",
   "metadata": {},
   "source": [
    "# 3. Visualization Function\n",
    "\n",
    "This function will help us visualize the RRT tree, the start and goal points, the obstacles, and the final path."
   ]
  },
  {
   "cell_type": "code",
   "execution_count": null,
   "id": "33635bb2",
   "metadata": {},
   "outputs": [],
   "source": [
    "def visualize_rrt(tree, start, goal, obstacles, path=None):\n",
    "    \"\"\"Visualizes the RRT tree, start, goal, and obstacles.\"\"\"\n",
    "    plt.figure(figsize=(10, 10))\n",
    "    ax = plt.gca()\n",
    "\n",
    "    # Plot obstacles\n",
    "    for obs in obstacles:\n",
    "        rect = plt.Rectangle((obs[0], obs[1]), obs[2], obs[3], color='gray', alpha=0.7)\n",
    "        ax.add_patch(rect)\n",
    "\n",
    "    # Plot RRT tree\n",
    "    for node in tree:\n",
    "        if node.parent:\n",
    "            plt.plot([node.x, node.parent.x], [node.y, node.parent.y], '-g', linewidth=0.5)\n",
    "\n",
    "    # Plot start and goal\n",
    "    plt.plot(start.x, start.y, 'go', markersize=10, label='Start')\n",
    "    plt.plot(goal.x, goal.y, 'ro', markersize=10, label='Goal')\n",
    "    \n",
    "    # Plot the final path if found\n",
    "    if path:\n",
    "        path_x = [node.x for node in path]\n",
    "        path_y = [node.y for node in path]\n",
    "        plt.plot(path_x, path_y, '-b', linewidth=2, label='Path')\n",
    "\n",
    "    plt.title(\"Rapidly-exploring Random Tree (RRT) Visualization\")\n",
    "    plt.xlabel(\"X-coordinate\")\n",
    "    plt.ylabel(\"Y-coordinate\")\n",
    "    plt.grid(True)\n",
    "    plt.axis('equal')\n",
    "    plt.legend()\n",
    "    plt.show()"
   ]
  },
  {
   "cell_type": "markdown",
   "id": "3cc26daa",
   "metadata": {},
   "source": [
    "# 4. Main RRT Planning Algorithm\n",
    "\n",
    "This is the core function that implements the main loop of the RRT algorithm. It returns the final tree and the found path."
   ]
  },
  {
   "cell_type": "code",
   "execution_count": null,
   "id": "52a38ea3",
   "metadata": {},
   "outputs": [],
   "source": [
    "def rrt_planning(start, goal, obstacles, bounds):\n",
    "    \"\"\"Main RRT planning function.\"\"\"\n",
    "    tree = [start]\n",
    "    path_found = False\n",
    "    goal_node = None\n",
    "    \n",
    "    for i in range(MAX_ITERATIONS):\n",
    "        # Sample a random point\n",
    "        if random.random() < GOAL_SAMPLE_RATE:\n",
    "            random_node = goal\n",
    "        else:\n",
    "            x = random.uniform(bounds[0], bounds[1])\n",
    "            y = random.uniform(bounds[2], bounds[3])\n",
    "            random_node = RRTNode(x, y)\n",
    "            \n",
    "        # Find nearest node in the tree\n",
    "        nearest_node = find_nearest_node(tree, random_node)\n",
    "        \n",
    "        # Steer towards the random node\n",
    "        new_node = steer(nearest_node, random_node, STEP_SIZE)\n",
    "        \n",
    "        # Check for collision\n",
    "        if is_collision_free(nearest_node, new_node, obstacles):\n",
    "            new_node.parent = nearest_node\n",
    "            tree.append(new_node)\n",
    "            \n",
    "            # Check if goal is reached\n",
    "            if distance(new_node, goal) < GOAL_THRESHOLD:\n",
    "                goal_node = new_node\n",
    "                path_found = True\n",
    "                print(\"Path found!\")\n",
    "                break\n",
    "                \n",
    "    if not path_found:\n",
    "        print(\"Path not found after\", MAX_ITERATIONS, \"iterations.\")\n",
    "        return tree, None\n",
    "\n",
    "    # Reconstruct the path\n",
    "    path = []\n",
    "    current_node = goal_node\n",
    "    while current_node is not None:\n",
    "        path.append(current_node)\n",
    "        current_node = current_node.parent\n",
    "    path.reverse()\n",
    "    \n",
    "    return tree, path"
   ]
  },
  {
   "cell_type": "markdown",
   "id": "e27e493c",
   "metadata": {},
   "source": [
    "# 5. Running the Simulation\n",
    "\n",
    "Finally, let's define our environment with a start point, a goal point, and a set of rectangular obstacles. Then we run the `rrt_planning` function and visualize the results.\n",
    "\n",
    "Feel free to modify the `start`, `goal`, and `obstacles` to test the algorithm with different scenarios."
   ]
  },
  {
   "cell_type": "code",
   "execution_count": null,
   "id": "b370cf49",
   "metadata": {},
   "outputs": [],
   "source": [
    "if __name__ == \"__main__\":\n",
    "    # Define the environment\n",
    "    bounds = (0, 100, 0, 100)  # x_min, x_max, y_min, y_max\n",
    "    start = RRTNode(10, 10)\n",
    "    goal = RRTNode(90, 90)\n",
    "    \n",
    "    obstacles = [\n",
    "        (20, 20, 5, 50),\n",
    "        (40, 50, 40, 5),\n",
    "        (60, 20, 5, 50),\n",
    "        (70, 70, 25, 5)\n",
    "    ]\n",
    "    \n",
    "    # Run the RRT planning algorithm\n",
    "    tree, path = rrt_planning(start, goal, obstacles, bounds)\n",
    "\n",
    "    # Visualize the results\n",
    "    visualize_rrt(tree, start, goal, obstacles, path)"
   ]
  }
 ],
 "metadata": {
  "kernelspec": {
   "display_name": ".adv_rob_venv",
   "language": "python",
   "name": "python3"
  },
  "language_info": {
   "codemirror_mode": {
    "name": "ipython",
    "version": 3
   },
   "file_extension": ".py",
   "mimetype": "text/x-python",
   "name": "python",
   "nbconvert_exporter": "python",
   "pygments_lexer": "ipython3",
   "version": "3.13.3"
  }
 },
 "nbformat": 4,
 "nbformat_minor": 5
}
